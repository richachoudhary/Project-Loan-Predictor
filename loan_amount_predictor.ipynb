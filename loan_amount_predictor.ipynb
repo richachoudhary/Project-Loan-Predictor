{
 "cells": [
  {
   "cell_type": "code",
   "execution_count": 3,
   "metadata": {
    "scrolled": true
   },
   "outputs": [],
   "source": [
    "import pandas as pd\n",
    "import numpy as np \n",
    "import seaborn as sns \n",
    "import matplotlib.pyplot as plt \n",
    "%matplotlib inline\n",
    "import math\n",
    "from datetime import datetime\n",
    "ts = int(\"1284101485\")\n",
    "from pandas.plotting import scatter_matrix\n",
    "import matplotlib.pyplot as plt\n",
    "from sklearn.metrics import classification_report\n",
    "from sklearn.metrics import confusion_matrix\n",
    "from sklearn.linear_model import LogisticRegression\n",
    "from sklearn.tree import DecisionTreeClassifier\n",
    "from sklearn.neighbors import KNeighborsClassifier \n",
    "from sklearn.preprocessing import StandardScaler\n",
    "from sklearn.model_selection import train_test_split, GridSearchCV, StratifiedKFold\n",
    "from sklearn.metrics import mean_squared_error, mean_absolute_error, accuracy_score, roc_auc_score, confusion_matrix"
   ]
  },
  {
   "cell_type": "markdown",
   "metadata": {},
   "source": [
    "#  Data Visualization and Exploration"
   ]
  },
  {
   "cell_type": "code",
   "execution_count": 4,
   "metadata": {
    "scrolled": true
   },
   "outputs": [
    {
     "name": "stdout",
     "output_type": "stream",
     "text": [
      "<class 'pandas.core.frame.DataFrame'>\n",
      "RangeIndex: 12854 entries, 0 to 12853\n",
      "Data columns (total 4 columns):\n",
      "Unnamed: 0      12854 non-null int64\n",
      "customer_id     12854 non-null int64\n",
      "company_id      12854 non-null int64\n",
      "company_name    12853 non-null object\n",
      "dtypes: int64(3), object(1)\n",
      "memory usage: 401.8+ KB\n"
     ]
    }
   ],
   "source": [
    "df1= pd.read_csv(r\"C:\\Users\\RICHA\\Desktop\\test\\recruitement_testing\\user_company.csv\")\n",
    "df1.info()\n",
    "#df1.head(5)"
   ]
  },
  {
   "cell_type": "code",
   "execution_count": 5,
   "metadata": {},
   "outputs": [],
   "source": [
    "df2= pd.read_csv(r\"C:\\Users\\RICHA\\Desktop\\test\\recruitement_testing\\user_data.csv\")\n",
    "#df2.info()"
   ]
  },
  {
   "cell_type": "code",
   "execution_count": 6,
   "metadata": {},
   "outputs": [],
   "source": [
    "#print(df2['campaign'].unique())\n",
    "#print(df2['media_source'].unique())\n",
    "#print(df2['device_name'].unique())\n",
    "#print(df2['email'].unique())\n",
    "#print(df2['name'].unique())\n",
    "#print(df2['install_type'].unique())\n",
    "#print(df2['imei'].unique())\n",
    "#print(df2['operator_name'].unique())\n",
    "#print(df2['app_version'].unique())\n",
    "#print(df2['subscriber_id'].unique())\n",
    "#print(df2['sim_serial_number'].unique())\n",
    "#print(df2['os_version'].unique())\n",
    "#print(df2['os'].unique())\n",
    "#print(df2['list_of_apps'].unique())\n",
    "#print(df2['login_time'].unique())"
   ]
  },
  {
   "cell_type": "raw",
   "metadata": {},
   "source": [
    "We can Onehot encode for colomns \"os\" and \"install_type\""
   ]
  },
  {
   "cell_type": "code",
   "execution_count": 7,
   "metadata": {},
   "outputs": [
    {
     "data": {
      "text/html": [
       "<div>\n",
       "<style scoped>\n",
       "    .dataframe tbody tr th:only-of-type {\n",
       "        vertical-align: middle;\n",
       "    }\n",
       "\n",
       "    .dataframe tbody tr th {\n",
       "        vertical-align: top;\n",
       "    }\n",
       "\n",
       "    .dataframe thead th {\n",
       "        text-align: right;\n",
       "    }\n",
       "</style>\n",
       "<table border=\"1\" class=\"dataframe\">\n",
       "  <thead>\n",
       "    <tr style=\"text-align: right;\">\n",
       "      <th></th>\n",
       "      <th>iOS</th>\n",
       "    </tr>\n",
       "  </thead>\n",
       "  <tbody>\n",
       "    <tr>\n",
       "      <th>0</th>\n",
       "      <td>0</td>\n",
       "    </tr>\n",
       "    <tr>\n",
       "      <th>1</th>\n",
       "      <td>0</td>\n",
       "    </tr>\n",
       "    <tr>\n",
       "      <th>2</th>\n",
       "      <td>0</td>\n",
       "    </tr>\n",
       "    <tr>\n",
       "      <th>3</th>\n",
       "      <td>0</td>\n",
       "    </tr>\n",
       "    <tr>\n",
       "      <th>4</th>\n",
       "      <td>0</td>\n",
       "    </tr>\n",
       "  </tbody>\n",
       "</table>\n",
       "</div>"
      ],
      "text/plain": [
       "   iOS\n",
       "0    0\n",
       "1    0\n",
       "2    0\n",
       "3    0\n",
       "4    0"
      ]
     },
     "execution_count": 7,
     "metadata": {},
     "output_type": "execute_result"
    }
   ],
   "source": [
    "OS= pd.get_dummies(df2['os'], drop_first=True)\n",
    "OS.head()"
   ]
  },
  {
   "cell_type": "code",
   "execution_count": 8,
   "metadata": {},
   "outputs": [
    {
     "data": {
      "text/html": [
       "<div>\n",
       "<style scoped>\n",
       "    .dataframe tbody tr th:only-of-type {\n",
       "        vertical-align: middle;\n",
       "    }\n",
       "\n",
       "    .dataframe tbody tr th {\n",
       "        vertical-align: top;\n",
       "    }\n",
       "\n",
       "    .dataframe thead th {\n",
       "        text-align: right;\n",
       "    }\n",
       "</style>\n",
       "<table border=\"1\" class=\"dataframe\">\n",
       "  <thead>\n",
       "    <tr style=\"text-align: right;\">\n",
       "      <th></th>\n",
       "      <th>Organic</th>\n",
       "    </tr>\n",
       "  </thead>\n",
       "  <tbody>\n",
       "    <tr>\n",
       "      <th>0</th>\n",
       "      <td>0</td>\n",
       "    </tr>\n",
       "    <tr>\n",
       "      <th>1</th>\n",
       "      <td>1</td>\n",
       "    </tr>\n",
       "    <tr>\n",
       "      <th>2</th>\n",
       "      <td>0</td>\n",
       "    </tr>\n",
       "    <tr>\n",
       "      <th>3</th>\n",
       "      <td>1</td>\n",
       "    </tr>\n",
       "    <tr>\n",
       "      <th>4</th>\n",
       "      <td>0</td>\n",
       "    </tr>\n",
       "  </tbody>\n",
       "</table>\n",
       "</div>"
      ],
      "text/plain": [
       "   Organic\n",
       "0        0\n",
       "1        1\n",
       "2        0\n",
       "3        1\n",
       "4        0"
      ]
     },
     "execution_count": 8,
     "metadata": {},
     "output_type": "execute_result"
    }
   ],
   "source": [
    "Install_Type= pd.get_dummies(df2['install_type'], drop_first=True)\n",
    "Install_Type.head()"
   ]
  },
  {
   "cell_type": "code",
   "execution_count": 11,
   "metadata": {},
   "outputs": [],
   "source": [
    "df2= pd.concat([df2, OS, Install_Type ], axis=1)\n",
    "#df2.drop(['os', 'install_type'], inplace= True, axis=1)\n",
    "#df2.columns "
   ]
  },
  {
   "cell_type": "code",
   "execution_count": 12,
   "metadata": {},
   "outputs": [],
   "source": [
    "df3= pd.read_csv(r\"C:\\Users\\RICHA\\Desktop\\test\\recruitement_testing\\user_EMIs.csv\")\n",
    "df3.drop(['created_date.y', 'created_date.x'], inplace= True, axis=1)\n",
    "df3['last_payment_date']=pd.to_datetime(df3.last_payment_date)\n",
    "df3['extension_due_date']=pd.to_datetime(df3.extension_due_date)\n",
    "df3['installment_due_date']=pd.to_datetime(df3.installment_due_date)\n",
    "df3['penalty_calculation_date']=pd.to_datetime(df3.penalty_calculation_date)\n",
    "df3['updated_date']=pd.to_datetime(df3.updated_date)\n"
   ]
  },
  {
   "cell_type": "raw",
   "metadata": {},
   "source": [
    "Let's check out the top 10 rows of the data"
   ]
  },
  {
   "cell_type": "code",
   "execution_count": 13,
   "metadata": {},
   "outputs": [],
   "source": [
    "#df3.head(5)"
   ]
  },
  {
   "cell_type": "raw",
   "metadata": {},
   "source": [
    "Now lets see the datatypes of each column (date converted from Object type to datetime64[ns] type)"
   ]
  },
  {
   "cell_type": "code",
   "execution_count": 14,
   "metadata": {},
   "outputs": [],
   "source": [
    "#df3.dtypes"
   ]
  },
  {
   "cell_type": "code",
   "execution_count": 15,
   "metadata": {
    "scrolled": true
   },
   "outputs": [
    {
     "data": {
      "text/plain": [
       "<matplotlib.axes._subplots.AxesSubplot at 0x19c5278d898>"
      ]
     },
     "execution_count": 15,
     "metadata": {},
     "output_type": "execute_result"
    },
    {
     "data": {
      "image/png": "[encoded data removed]",
      "text/plain": [
       "<Figure size 432x288 with 1 Axes>"
      ]
     },
     "metadata": {},
     "output_type": "display_data"
    }
   ],
   "source": [
    "df4= pd.read_csv(r\"C:\\Users\\RICHA\\Desktop\\test\\recruitement_testing\\user_loan.csv\")\n",
    "df4['created_date']=pd.to_datetime(df4.created_date)\n",
    "df4['loan_transferred_date']=pd.to_datetime(df4.loan_transferred_date)\n",
    "df4['due_date']=pd.to_datetime(df4.due_date)\n",
    "df4['updated_date']=pd.to_datetime(df4.updated_date)\n",
    "df4['updated_by'].value_counts()\n",
    "df4['purpose_id'].value_counts()\n",
    "df4['loan_status_id'].value_counts().plot()\n",
    "#df4.info()"
   ]
  },
  {
   "cell_type": "code",
   "execution_count": 16,
   "metadata": {},
   "outputs": [
    {
     "data": {
      "text/plain": [
       "count     14692.000000\n",
       "mean       2049.081813\n",
       "std       10961.975397\n",
       "min           0.000000\n",
       "25%           0.000000\n",
       "50%           0.000000\n",
       "75%           0.000000\n",
       "max      246070.000000\n",
       "Name: total_due_amount, dtype: float64"
      ]
     },
     "execution_count": 16,
     "metadata": {},
     "output_type": "execute_result"
    }
   ],
   "source": [
    "df4['total_due_amount'].describe()"
   ]
  },
  {
   "cell_type": "code",
   "execution_count": 17,
   "metadata": {},
   "outputs": [
    {
     "data": {
      "text/plain": [
       "<matplotlib.axes._subplots.AxesSubplot at 0x19c5259d2b0>"
      ]
     },
     "execution_count": 17,
     "metadata": {},
     "output_type": "execute_result"
    },
    {
     "data": {
      "image/png": "[encoded data removed]",
      "text/plain": [
       "<Figure size 720x360 with 1 Axes>"
      ]
     },
     "metadata": {},
     "output_type": "display_data"
    }
   ],
   "source": [
    "df4['total_due_amount'].hist(alpha=0.9, figsize=(10, 5))"
   ]
  },
  {
   "cell_type": "code",
   "execution_count": 18,
   "metadata": {},
   "outputs": [
    {
     "data": {
      "text/plain": [
       "2049.081813231691"
      ]
     },
     "execution_count": 18,
     "metadata": {},
     "output_type": "execute_result"
    }
   ],
   "source": [
    "df4['total_due_amount'].mean()"
   ]
  },
  {
   "cell_type": "code",
   "execution_count": 19,
   "metadata": {},
   "outputs": [
    {
     "data": {
      "text/plain": [
       "<matplotlib.axes._subplots.AxesSubplot at 0x19c5322d0b8>"
      ]
     },
     "execution_count": 19,
     "metadata": {},
     "output_type": "execute_result"
    },
    {
     "data": {
      "image/png": "[encoded data removed]",
      "text/plain": [
       "<Figure size 720x360 with 1 Axes>"
      ]
     },
     "metadata": {},
     "output_type": "display_data"
    }
   ],
   "source": [
    "df4['loan_amount'].hist(alpha=0.9, figsize=(10, 5))"
   ]
  },
  {
   "cell_type": "code",
   "execution_count": 20,
   "metadata": {},
   "outputs": [
    {
     "data": {
      "text/plain": [
       "10000.0"
      ]
     },
     "execution_count": 20,
     "metadata": {},
     "output_type": "execute_result"
    }
   ],
   "source": [
    "df4['loan_amount'].median()"
   ]
  },
  {
   "cell_type": "code",
   "execution_count": null,
   "metadata": {},
   "outputs": [],
   "source": []
  },
  {
   "cell_type": "code",
   "execution_count": 21,
   "metadata": {},
   "outputs": [
    {
     "data": {
      "text/plain": [
       "count     14692.000000\n",
       "mean      21145.521372\n",
       "std       21390.663167\n",
       "min        5000.000000\n",
       "25%       10000.000000\n",
       "50%       10000.000000\n",
       "75%       30000.000000\n",
       "max      200000.000000\n",
       "Name: loan_amount, dtype: float64"
      ]
     },
     "execution_count": 21,
     "metadata": {},
     "output_type": "execute_result"
    }
   ],
   "source": [
    "df4['loan_amount'].describe()"
   ]
  },
  {
   "cell_type": "code",
   "execution_count": 22,
   "metadata": {},
   "outputs": [
    {
     "data": {
      "text/plain": [
       "10000.0"
      ]
     },
     "execution_count": 22,
     "metadata": {},
     "output_type": "execute_result"
    }
   ],
   "source": [
    "df4['loan_amount'].median()"
   ]
  },
  {
   "cell_type": "code",
   "execution_count": 23,
   "metadata": {},
   "outputs": [
    {
     "data": {
      "text/plain": [
       "0    10000.0\n",
       "dtype: float64"
      ]
     },
     "execution_count": 23,
     "metadata": {},
     "output_type": "execute_result"
    }
   ],
   "source": [
    "df4['loan_amount'].mode()"
   ]
  },
  {
   "cell_type": "raw",
   "metadata": {},
   "source": [
    "so, the analysis , shows loan_amount is right skewed\n"
   ]
  },
  {
   "cell_type": "code",
   "execution_count": 24,
   "metadata": {},
   "outputs": [
    {
     "name": "stdout",
     "output_type": "stream",
     "text": [
      "['ONECAP' 'BHANIX']\n",
      "['3' '1' 'KOTAK_REVERSAL_WS_BATCH' 'SYSTEM' '4' '2' '32194']\n",
      "[nan 'Magna50' 'NECAS7899' 'Necas7899' 'TRIAL100' 'TEAM100' 'SOXCAS75'\n",
      " 'Soxcas75' 'soxcas75' 'FAST100' 'Cdca50' 'trial100' 'CDCA50' 'CGCA50'\n",
      " 'Trial100' 'fast100' 'Fast100' 'BU94PQJ6' 'SODEXO70' 'RNXIWT7F'\n",
      " 'XVPWQVLN' 'EODX7ODH' '9DQYJJBQ' 'M0VRHYGG' 'OP2KT4E0' 'AGRBE2UQ'\n",
      " 'RELIANCE70' 'CASHEHYD100' 'VANTAGE70' 'CASHECHE100' 'DGQ0MGT8'\n",
      " 'IH3T6DKT' 'BSWC100' 'SAVE70' 'SAVE75' 'sodexo75' 'NOYBYYEV' 'SODEXO75'\n",
      " 'AERIES100' 'GX5URDDT' 'WP3PXUJA' 'ZEOTIJPQ' 'YGZZWBKN' 'HNY50' 'hny50'\n",
      " 'CASHEDEL100' 'ASPB72' 'USIK0ZS0' 'FREE100' 'JAN100' 'GHX19JQU'\n",
      " 'VPSLXOJD' 'MAR100' 'S7ATETQL' 'FVGCAREZ' 'cashehyd100' 'BACTB50W'\n",
      " 'ASPB33' 'IPL100' 'P50' 'TELCE20' 'OOOFF4HV' 'TEAUR09' 'TUXFNBOL'\n",
      " 'Y3BZJBU7' 'CHEDST4' 'CASHE' 'JUNE100' 'MRIFLCHE06' 'GBS09' 'QFM2NCKS'\n",
      " 'JUNE20' 'JULY50' 'YVKOIPYZ' 'MTBDRVSJ' 'HYDDST1' 'CASHEHYD50' 'GBS02'\n",
      " 'LKITTZWF' 'RIR0YRKR' 'CASHEDIWALI' 'GBS01' 'MTM05' 'AND01' 'cashe'\n",
      " 'OFM01' 'MTF09' 'GBS03' 'LUCKY' 'SAI02' 'JANUARY100' 'FEB50' 'FEBRUARY50']\n",
      "[ 0. nan  1.]\n",
      "[nan '606011286204' '606011286203' ... '809512218950' '809514262737'\n",
      " '809515290729']\n"
     ]
    }
   ],
   "source": [
    "print(df4['nbfc_code'].unique())\n",
    "print(df4['updated_by'].unique())\n",
    "print(df4['promo_code'].unique())\n",
    "print(df4['retry_count'].unique())\n",
    "print(df4['bank_transaction_id'].unique())\n"
   ]
  },
  {
   "cell_type": "raw",
   "metadata": {},
   "source": [
    "nbfc_code can be coverterted to onehot "
   ]
  },
  {
   "cell_type": "code",
   "execution_count": 25,
   "metadata": {},
   "outputs": [
    {
     "data": {
      "text/html": [
       "<div>\n",
       "<style scoped>\n",
       "    .dataframe tbody tr th:only-of-type {\n",
       "        vertical-align: middle;\n",
       "    }\n",
       "\n",
       "    .dataframe tbody tr th {\n",
       "        vertical-align: top;\n",
       "    }\n",
       "\n",
       "    .dataframe thead th {\n",
       "        text-align: right;\n",
       "    }\n",
       "</style>\n",
       "<table border=\"1\" class=\"dataframe\">\n",
       "  <thead>\n",
       "    <tr style=\"text-align: right;\">\n",
       "      <th></th>\n",
       "      <th>ONECAP</th>\n",
       "    </tr>\n",
       "  </thead>\n",
       "  <tbody>\n",
       "    <tr>\n",
       "      <th>0</th>\n",
       "      <td>1</td>\n",
       "    </tr>\n",
       "    <tr>\n",
       "      <th>1</th>\n",
       "      <td>1</td>\n",
       "    </tr>\n",
       "    <tr>\n",
       "      <th>2</th>\n",
       "      <td>1</td>\n",
       "    </tr>\n",
       "    <tr>\n",
       "      <th>3</th>\n",
       "      <td>1</td>\n",
       "    </tr>\n",
       "    <tr>\n",
       "      <th>4</th>\n",
       "      <td>1</td>\n",
       "    </tr>\n",
       "  </tbody>\n",
       "</table>\n",
       "</div>"
      ],
      "text/plain": [
       "   ONECAP\n",
       "0       1\n",
       "1       1\n",
       "2       1\n",
       "3       1\n",
       "4       1"
      ]
     },
     "execution_count": 25,
     "metadata": {},
     "output_type": "execute_result"
    }
   ],
   "source": [
    "NBFC_code= pd.get_dummies(df4['nbfc_code'], drop_first=True)\n",
    "NBFC_code.head()"
   ]
  },
  {
   "cell_type": "code",
   "execution_count": 26,
   "metadata": {},
   "outputs": [
    {
     "data": {
      "text/html": [
       "<div>\n",
       "<style scoped>\n",
       "    .dataframe tbody tr th:only-of-type {\n",
       "        vertical-align: middle;\n",
       "    }\n",
       "\n",
       "    .dataframe tbody tr th {\n",
       "        vertical-align: top;\n",
       "    }\n",
       "\n",
       "    .dataframe thead th {\n",
       "        text-align: right;\n",
       "    }\n",
       "</style>\n",
       "<table border=\"1\" class=\"dataframe\">\n",
       "  <thead>\n",
       "    <tr style=\"text-align: right;\">\n",
       "      <th></th>\n",
       "      <th>1.0</th>\n",
       "    </tr>\n",
       "  </thead>\n",
       "  <tbody>\n",
       "    <tr>\n",
       "      <th>0</th>\n",
       "      <td>0</td>\n",
       "    </tr>\n",
       "    <tr>\n",
       "      <th>1</th>\n",
       "      <td>0</td>\n",
       "    </tr>\n",
       "    <tr>\n",
       "      <th>2</th>\n",
       "      <td>0</td>\n",
       "    </tr>\n",
       "    <tr>\n",
       "      <th>3</th>\n",
       "      <td>0</td>\n",
       "    </tr>\n",
       "    <tr>\n",
       "      <th>4</th>\n",
       "      <td>0</td>\n",
       "    </tr>\n",
       "  </tbody>\n",
       "</table>\n",
       "</div>"
      ],
      "text/plain": [
       "   1.0\n",
       "0    0\n",
       "1    0\n",
       "2    0\n",
       "3    0\n",
       "4    0"
      ]
     },
     "execution_count": 26,
     "metadata": {},
     "output_type": "execute_result"
    }
   ],
   "source": [
    "Retry_Count= pd.get_dummies(df4['retry_count'], drop_first=True)\n",
    "Retry_Count.head()"
   ]
  },
  {
   "cell_type": "raw",
   "metadata": {},
   "source": [
    "As just one column was sufficient."
   ]
  },
  {
   "cell_type": "code",
   "execution_count": 113,
   "metadata": {},
   "outputs": [],
   "source": [
    "df4= pd.concat([df4,NBFC_code ], axis=1)\n",
    "#df4.drop(['nbfc_code'], inplace= True, axis=1)\n",
    "#df4.head(5)"
   ]
  },
  {
   "cell_type": "code",
   "execution_count": 29,
   "metadata": {},
   "outputs": [],
   "source": [
    "df5= pd.read_csv(r\"C:\\Users\\RICHA\\Desktop\\test\\recruitement_testing\\user_pin.csv\")\n",
    "#df5.head()\n",
    "#df5.info()"
   ]
  },
  {
   "cell_type": "code",
   "execution_count": 30,
   "metadata": {},
   "outputs": [],
   "source": [
    "df6= pd.read_csv(r\"C:\\Users\\RICHA\\Desktop\\test\\recruitement_testing\\user_repayments.csv\")\n",
    "df6['credit_date']=pd.to_datetime(df6.credit_date)\n",
    "#df6.info()"
   ]
  },
  {
   "cell_type": "code",
   "execution_count": 32,
   "metadata": {},
   "outputs": [],
   "source": [
    "df7= pd.read_csv(r\"C:\\Users\\RICHA\\Desktop\\test\\recruitement_testing\\user_salary.csv\")\n",
    "#df7['monthly_customer_income'].describe()"
   ]
  },
  {
   "cell_type": "code",
   "execution_count": 33,
   "metadata": {},
   "outputs": [
    {
     "name": "stdout",
     "output_type": "stream",
     "text": [
      "(14692,)\n"
     ]
    }
   ],
   "source": [
    "print(df4['loan_amount'].shape)"
   ]
  },
  {
   "cell_type": "code",
   "execution_count": 34,
   "metadata": {},
   "outputs": [
    {
     "data": {
      "text/plain": [
       "(20000,)"
      ]
     },
     "execution_count": 34,
     "metadata": {},
     "output_type": "execute_result"
    }
   ],
   "source": [
    "df7['monthly_customer_income'].shape"
   ]
  },
  {
   "cell_type": "code",
   "execution_count": 35,
   "metadata": {},
   "outputs": [],
   "source": [
    "df_merge = pd.merge(df4, df7, left_on='customer_id', right_on='customer_id')\n"
   ]
  },
  {
   "cell_type": "code",
   "execution_count": 36,
   "metadata": {},
   "outputs": [],
   "source": [
    "#df_merge.head()"
   ]
  },
  {
   "cell_type": "code",
   "execution_count": 37,
   "metadata": {},
   "outputs": [
    {
     "data": {
      "text/plain": [
       "<matplotlib.collections.PathCollection at 0x19c52359780>"
      ]
     },
     "execution_count": 37,
     "metadata": {},
     "output_type": "execute_result"
    },
    {
     "data": {
      "image/png": "[encoded data removed]",
      "text/plain": [
       "<Figure size 432x288 with 1 Axes>"
      ]
     },
     "metadata": {},
     "output_type": "display_data"
    }
   ],
   "source": [
    "plt.scatter(df_merge['loan_amount'],df_merge['monthly_customer_income'])"
   ]
  },
  {
   "cell_type": "code",
   "execution_count": 38,
   "metadata": {},
   "outputs": [
    {
     "data": {
      "text/plain": [
       "Unnamed: 0_x                       0.348963\n",
       "loan_request_id                    0.286192\n",
       "customer_id                        0.129425\n",
       "loan_amount                        1.000000\n",
       "interest_rate                      0.746389\n",
       "service_charge                     0.251638\n",
       "promo_discount_amount              0.420895\n",
       "total_due_amount                   0.324451\n",
       "bank_account_detail_id             0.008454\n",
       "loan_status_id                     0.122893\n",
       "retry_count                       -0.008934\n",
       "loan_request_initial_id            0.268054\n",
       "service_charge_configuration_id    0.051161\n",
       "purpose_id                        -0.048099\n",
       "nbfc_id                            0.293982\n",
       "repeat_processing_fee              0.321135\n",
       "gst_charge                         0.219695\n",
       "ONECAP                            -0.293982\n",
       "Unnamed: 0_y                       0.126697\n",
       "monthly_customer_income            0.530443\n",
       "dtype: float64"
      ]
     },
     "execution_count": 38,
     "metadata": {},
     "output_type": "execute_result"
    }
   ],
   "source": [
    "df_merge.corrwith(df_merge['loan_amount'])"
   ]
  },
  {
   "cell_type": "code",
   "execution_count": 39,
   "metadata": {},
   "outputs": [
    {
     "data": {
      "image/png": "[encoded data removed]",
      "text/plain": [
       "<Figure size 432x288 with 1 Axes>"
      ]
     },
     "metadata": {},
     "output_type": "display_data"
    },
    {
     "data": {
      "image/png": "[encoded data removed]",
      "text/plain": [
       "<Figure size 432x288 with 1 Axes>"
      ]
     },
     "metadata": {},
     "output_type": "display_data"
    }
   ],
   "source": [
    "\n",
    "sns.countplot(y=\"loan_amount\", data= df_merge)\n",
    "plt.show()\n",
    "sns.barplot(y=\"loan_amount\", x=\"total_due_amount\", data= df_merge)\n",
    "plt.show()"
   ]
  },
  {
   "cell_type": "code",
   "execution_count": 40,
   "metadata": {},
   "outputs": [
    {
     "data": {
      "text/plain": [
       "<seaborn.axisgrid.FacetGrid at 0x19c5238e780>"
      ]
     },
     "execution_count": 40,
     "metadata": {},
     "output_type": "execute_result"
    },
    {
     "data": {
      "image/png": "[encoded data removed]",
      "text/plain": [
       "<Figure size 439.375x360 with 1 Axes>"
      ]
     },
     "metadata": {},
     "output_type": "display_data"
    }
   ],
   "source": [
    "sns.lmplot(\"total_due_amount\", \"loan_amount\", hue=\"loan_status_id\", data= df_merge, fit_reg= False)"
   ]
  },
  {
   "cell_type": "raw",
   "metadata": {},
   "source": [
    "as we can see above correlation of loan_amount with interest_rate, monthly_customer_incomer are greater than 0.5 "
   ]
  },
  {
   "cell_type": "raw",
   "metadata": {},
   "source": [
    "Now , let's see the numerical description like mean, count, top etc"
   ]
  },
  {
   "cell_type": "code",
   "execution_count": 41,
   "metadata": {},
   "outputs": [
    {
     "data": {
      "text/html": [
       "<div>\n",
       "<style scoped>\n",
       "    .dataframe tbody tr th:only-of-type {\n",
       "        vertical-align: middle;\n",
       "    }\n",
       "\n",
       "    .dataframe tbody tr th {\n",
       "        vertical-align: top;\n",
       "    }\n",
       "\n",
       "    .dataframe thead th {\n",
       "        text-align: right;\n",
       "    }\n",
       "</style>\n",
       "<table border=\"1\" class=\"dataframe\">\n",
       "  <thead>\n",
       "    <tr style=\"text-align: right;\">\n",
       "      <th></th>\n",
       "      <th>company_name</th>\n",
       "    </tr>\n",
       "  </thead>\n",
       "  <tbody>\n",
       "    <tr>\n",
       "      <th>count</th>\n",
       "      <td>12853</td>\n",
       "    </tr>\n",
       "    <tr>\n",
       "      <th>unique</th>\n",
       "      <td>6469</td>\n",
       "    </tr>\n",
       "    <tr>\n",
       "      <th>top</th>\n",
       "      <td>Student</td>\n",
       "    </tr>\n",
       "    <tr>\n",
       "      <th>freq</th>\n",
       "      <td>869</td>\n",
       "    </tr>\n",
       "  </tbody>\n",
       "</table>\n",
       "</div>"
      ],
      "text/plain": [
       "       company_name\n",
       "count         12853\n",
       "unique         6469\n",
       "top         Student\n",
       "freq            869"
      ]
     },
     "execution_count": 41,
     "metadata": {},
     "output_type": "execute_result"
    }
   ],
   "source": [
    "df1.describe(include= object)"
   ]
  },
  {
   "cell_type": "code",
   "execution_count": 42,
   "metadata": {},
   "outputs": [
    {
     "data": {
      "text/html": [
       "<div>\n",
       "<style scoped>\n",
       "    .dataframe tbody tr th:only-of-type {\n",
       "        vertical-align: middle;\n",
       "    }\n",
       "\n",
       "    .dataframe tbody tr th {\n",
       "        vertical-align: top;\n",
       "    }\n",
       "\n",
       "    .dataframe thead th {\n",
       "        text-align: right;\n",
       "    }\n",
       "</style>\n",
       "<table border=\"1\" class=\"dataframe\">\n",
       "  <thead>\n",
       "    <tr style=\"text-align: right;\">\n",
       "      <th></th>\n",
       "      <th>Unnamed: 0</th>\n",
       "      <th>customer_id</th>\n",
       "      <th>company_id</th>\n",
       "    </tr>\n",
       "  </thead>\n",
       "  <tbody>\n",
       "    <tr>\n",
       "      <th>count</th>\n",
       "      <td>12854.000000</td>\n",
       "      <td>12854.00000</td>\n",
       "      <td>12854.000000</td>\n",
       "    </tr>\n",
       "    <tr>\n",
       "      <th>mean</th>\n",
       "      <td>6427.500000</td>\n",
       "      <td>28846.09499</td>\n",
       "      <td>21547.456356</td>\n",
       "    </tr>\n",
       "    <tr>\n",
       "      <th>std</th>\n",
       "      <td>3710.774515</td>\n",
       "      <td>8978.92276</td>\n",
       "      <td>21835.471917</td>\n",
       "    </tr>\n",
       "    <tr>\n",
       "      <th>min</th>\n",
       "      <td>1.000000</td>\n",
       "      <td>144.00000</td>\n",
       "      <td>4.000000</td>\n",
       "    </tr>\n",
       "    <tr>\n",
       "      <th>25%</th>\n",
       "      <td>3214.250000</td>\n",
       "      <td>24328.25000</td>\n",
       "      <td>15526.000000</td>\n",
       "    </tr>\n",
       "    <tr>\n",
       "      <th>50%</th>\n",
       "      <td>6427.500000</td>\n",
       "      <td>30109.50000</td>\n",
       "      <td>18850.000000</td>\n",
       "    </tr>\n",
       "    <tr>\n",
       "      <th>75%</th>\n",
       "      <td>9640.750000</td>\n",
       "      <td>35758.25000</td>\n",
       "      <td>21979.750000</td>\n",
       "    </tr>\n",
       "    <tr>\n",
       "      <th>max</th>\n",
       "      <td>12854.000000</td>\n",
       "      <td>41214.00000</td>\n",
       "      <td>352154.000000</td>\n",
       "    </tr>\n",
       "  </tbody>\n",
       "</table>\n",
       "</div>"
      ],
      "text/plain": [
       "         Unnamed: 0  customer_id     company_id\n",
       "count  12854.000000  12854.00000   12854.000000\n",
       "mean    6427.500000  28846.09499   21547.456356\n",
       "std     3710.774515   8978.92276   21835.471917\n",
       "min        1.000000    144.00000       4.000000\n",
       "25%     3214.250000  24328.25000   15526.000000\n",
       "50%     6427.500000  30109.50000   18850.000000\n",
       "75%     9640.750000  35758.25000   21979.750000\n",
       "max    12854.000000  41214.00000  352154.000000"
      ]
     },
     "execution_count": 42,
     "metadata": {},
     "output_type": "execute_result"
    }
   ],
   "source": [
    "df1.describe()"
   ]
  },
  {
   "cell_type": "code",
   "execution_count": 44,
   "metadata": {},
   "outputs": [],
   "source": [
    "#df2.describe()"
   ]
  },
  {
   "cell_type": "code",
   "execution_count": 45,
   "metadata": {},
   "outputs": [],
   "source": [
    "#df2.describe(include= object)"
   ]
  },
  {
   "cell_type": "code",
   "execution_count": 46,
   "metadata": {},
   "outputs": [],
   "source": [
    "#df3.describe()"
   ]
  },
  {
   "cell_type": "code",
   "execution_count": 47,
   "metadata": {},
   "outputs": [],
   "source": [
    "#df4.describe(include= object)"
   ]
  },
  {
   "cell_type": "code",
   "execution_count": 48,
   "metadata": {},
   "outputs": [],
   "source": [
    "#df4.describe()"
   ]
  },
  {
   "cell_type": "code",
   "execution_count": 49,
   "metadata": {},
   "outputs": [],
   "source": [
    "#df5.describe(include= object)"
   ]
  },
  {
   "cell_type": "code",
   "execution_count": 50,
   "metadata": {},
   "outputs": [],
   "source": [
    "#df5.describe()"
   ]
  },
  {
   "cell_type": "code",
   "execution_count": 51,
   "metadata": {},
   "outputs": [],
   "source": [
    "#df6.describe()"
   ]
  },
  {
   "cell_type": "code",
   "execution_count": 52,
   "metadata": {},
   "outputs": [],
   "source": [
    "#df7.describe()"
   ]
  },
  {
   "cell_type": "markdown",
   "metadata": {},
   "source": [
    "# Data Visualization using seaborn, matplotlib\n"
   ]
  },
  {
   "cell_type": "code",
   "execution_count": 53,
   "metadata": {},
   "outputs": [],
   "source": [
    "#df1.hist(figsize=(15, 5), layout=(1, 3))\n",
    "#plt.show()"
   ]
  },
  {
   "cell_type": "code",
   "execution_count": 54,
   "metadata": {},
   "outputs": [
    {
     "data": {
      "image/png": "[encoded data removed]",
      "text/plain": [
       "<Figure size 720x360 with 1 Axes>"
      ]
     },
     "metadata": {},
     "output_type": "display_data"
    }
   ],
   "source": [
    "df2['no_of_social_friends'].hist(alpha=0.9, figsize=(10, 5))\n",
    "plt.tight_layout()\n",
    "plt.show()\n",
    "\n"
   ]
  },
  {
   "cell_type": "code",
   "execution_count": 55,
   "metadata": {},
   "outputs": [
    {
     "data": {
      "image/png": "[encoded data removed]",
      "text/plain": [
       "<Figure size 720x360 with 1 Axes>"
      ]
     },
     "metadata": {},
     "output_type": "display_data"
    }
   ],
   "source": [
    "df2['number_of_apps'].hist(alpha=0.9, figsize=(10, 5))\n",
    "plt.tight_layout()\n",
    "plt.show()"
   ]
  },
  {
   "cell_type": "code",
   "execution_count": 56,
   "metadata": {},
   "outputs": [
    {
     "data": {
      "image/png": "[encoded data removed]",
      "text/plain": [
       "<Figure size 720x360 with 1 Axes>"
      ]
     },
     "metadata": {},
     "output_type": "display_data"
    }
   ],
   "source": [
    "df2['number_of_call_log'].hist(alpha=0.9, figsize=(10, 5))\n",
    "plt.tight_layout()\n",
    "plt.show()"
   ]
  },
  {
   "cell_type": "code",
   "execution_count": 57,
   "metadata": {},
   "outputs": [
    {
     "data": {
      "image/png": "[encoded data removed]",
      "text/plain": [
       "<Figure size 720x360 with 1 Axes>"
      ]
     },
     "metadata": {},
     "output_type": "display_data"
    }
   ],
   "source": [
    "df2['number_of_contacts'].hist(alpha=0.9, figsize=(10, 5))\n",
    "plt.tight_layout()\n",
    "plt.show()"
   ]
  },
  {
   "cell_type": "code",
   "execution_count": 58,
   "metadata": {},
   "outputs": [
    {
     "data": {
      "image/png": "[encoded data removed]",
      "text/plain": [
       "<Figure size 720x360 with 1 Axes>"
      ]
     },
     "metadata": {},
     "output_type": "display_data"
    }
   ],
   "source": [
    "df2['number_of_sms'].hist(alpha=0.9, figsize=(10, 5))\n",
    "plt.tight_layout()\n",
    "plt.show()"
   ]
  },
  {
   "cell_type": "code",
   "execution_count": null,
   "metadata": {},
   "outputs": [],
   "source": []
  },
  {
   "cell_type": "code",
   "execution_count": 59,
   "metadata": {},
   "outputs": [
    {
     "data": {
      "image/png": "[encoded data removed]",
      "text/plain": [
       "<Figure size 720x360 with 9 Axes>"
      ]
     },
     "metadata": {},
     "output_type": "display_data"
    }
   ],
   "source": [
    "df3.hist(alpha=0.9, figsize=(10, 5))\n",
    "plt.tight_layout()\n",
    "plt.show()"
   ]
  },
  {
   "cell_type": "code",
   "execution_count": 65,
   "metadata": {},
   "outputs": [
    {
     "data": {
      "image/png": "[encoded data removed]",
      "text/plain": [
       "<Figure size 720x360 with 1 Axes>"
      ]
     },
     "metadata": {},
     "output_type": "display_data"
    }
   ],
   "source": [
    "df4['loan_amount'].hist(alpha=0.9, figsize=(10, 5))\n",
    "plt.tight_layout()\n",
    "plt.show()"
   ]
  },
  {
   "cell_type": "code",
   "execution_count": 62,
   "metadata": {},
   "outputs": [
    {
     "data": {
      "image/png": "[encoded data removed]",
      "text/plain": [
       "<Figure size 720x360 with 1 Axes>"
      ]
     },
     "metadata": {},
     "output_type": "display_data"
    }
   ],
   "source": [
    "df5['pin_code'].hist(alpha=0.9, figsize=(10, 5))\n",
    "plt.tight_layout()\n",
    "plt.show()"
   ]
  },
  {
   "cell_type": "code",
   "execution_count": 68,
   "metadata": {},
   "outputs": [
    {
     "data": {
      "image/png": "[encoded data removed]",
      "text/plain": [
       "<Figure size 720x360 with 1 Axes>"
      ]
     },
     "metadata": {},
     "output_type": "display_data"
    },
    {
     "data": {
      "image/png": "[encoded data removed]",
      "text/plain": [
       "<Figure size 720x360 with 1 Axes>"
      ]
     },
     "metadata": {},
     "output_type": "display_data"
    }
   ],
   "source": [
    "df6['penalty_paid'].hist(alpha=0.9, figsize=(10, 5))\n",
    "plt.tight_layout()\n",
    "plt.title(\"penalty_paid\")\n",
    "plt.show()\n",
    "df6['principle_amount_paid'].hist(alpha=0.9, figsize=(10, 5))\n",
    "plt.tight_layout()\n",
    "plt.title(\"principle_amount_paid\")\n",
    "plt.show()"
   ]
  },
  {
   "cell_type": "code",
   "execution_count": 67,
   "metadata": {},
   "outputs": [
    {
     "data": {
      "image/png": "[encoded data removed]",
      "text/plain": [
       "<Figure size 720x360 with 1 Axes>"
      ]
     },
     "metadata": {},
     "output_type": "display_data"
    }
   ],
   "source": [
    "df7['monthly_customer_income'].hist(alpha=0.9, figsize=(10, 5))\n",
    "plt.tight_layout()\n",
    "plt.title('monthly_customer_income')\n",
    "plt.show()"
   ]
  },
  {
   "cell_type": "markdown",
   "metadata": {},
   "source": [
    "# Data Cleaning "
   ]
  },
  {
   "cell_type": "code",
   "execution_count": 69,
   "metadata": {},
   "outputs": [],
   "source": [
    " #df2.loc[:, df2.isna().any()]"
   ]
  },
  {
   "cell_type": "code",
   "execution_count": 70,
   "metadata": {},
   "outputs": [],
   "source": [
    "df2.fillna(df2.median(), inplace=True)\n",
    "df2.fillna(0, inplace=True)\n",
    "#df2.head(5)"
   ]
  },
  {
   "cell_type": "code",
   "execution_count": 71,
   "metadata": {
    "scrolled": true
   },
   "outputs": [],
   "source": [
    "df3.loc[:, df3.isna().any()]\n",
    "df3.fillna(df3.median(), inplace=True)\n",
    "df3.fillna(0, inplace=True)\n",
    "#df3.head(5)"
   ]
  },
  {
   "cell_type": "code",
   "execution_count": 73,
   "metadata": {},
   "outputs": [],
   "source": [
    "df4.loc[:, df4.isna().any()]\n",
    "df4.fillna(df4.median(), inplace=True)\n",
    "df4.fillna(0, inplace=True)\n",
    "#df4.head(5)"
   ]
  },
  {
   "cell_type": "code",
   "execution_count": 75,
   "metadata": {},
   "outputs": [],
   "source": [
    "df7.loc[:, df7.isna().any()]\n",
    "df7.fillna(df7.median(), inplace=True)\n",
    "#df7.head()"
   ]
  },
  {
   "cell_type": "code",
   "execution_count": 76,
   "metadata": {},
   "outputs": [],
   "source": [
    "#df4.head()"
   ]
  },
  {
   "cell_type": "code",
   "execution_count": 77,
   "metadata": {},
   "outputs": [],
   "source": [
    "#df2.head()"
   ]
  },
  {
   "cell_type": "code",
   "execution_count": 78,
   "metadata": {},
   "outputs": [
    {
     "name": "stdout",
     "output_type": "stream",
     "text": [
      "<class 'pandas.core.frame.DataFrame'>\n",
      "Int64Index: 14692 entries, 0 to 14691\n",
      "Data columns (total 28 columns):\n",
      "Unnamed: 0_x                       14692 non-null int64\n",
      "loan_request_id                    14692 non-null int64\n",
      "customer_id                        14692 non-null int64\n",
      "loan_amount                        14692 non-null float64\n",
      "interest_rate                      14692 non-null float64\n",
      "service_charge                     14692 non-null int64\n",
      "promo_discount_amount              14692 non-null float64\n",
      "promo_component                    14692 non-null object\n",
      "total_due_amount                   14692 non-null float64\n",
      "bank_account_detail_id             14692 non-null int64\n",
      "created_date                       14692 non-null datetime64[ns]\n",
      "loan_transferred_date              14692 non-null datetime64[ns]\n",
      "due_date                           14692 non-null datetime64[ns]\n",
      "updated_date                       14692 non-null datetime64[ns]\n",
      "loan_status_id                     14692 non-null int64\n",
      "updated_by                         14692 non-null object\n",
      "bank_transaction_id                14692 non-null object\n",
      "retry_count                        14692 non-null float64\n",
      "loan_request_initial_id            14692 non-null float64\n",
      "promo_code                         14692 non-null object\n",
      "service_charge_configuration_id    14692 non-null float64\n",
      "purpose_id                         14692 non-null float64\n",
      "nbfc_id                            14692 non-null int64\n",
      "repeat_processing_fee              14692 non-null float64\n",
      "gst_charge                         14692 non-null int64\n",
      "ONECAP                             14692 non-null uint8\n",
      "Unnamed: 0_y                       14692 non-null int64\n",
      "monthly_customer_income            14692 non-null float64\n",
      "dtypes: datetime64[ns](4), float64(10), int64(9), object(4), uint8(1)\n",
      "memory usage: 3.8+ MB\n"
     ]
    }
   ],
   "source": [
    "df_merge.fillna(df_merge.median(), inplace=True)\n",
    "df_merge.fillna(0, inplace=True)\n",
    "df_merge.info()\n",
    "#df_merge.drop(['promo_component','updated_by', 'bank_transaction_id', 'promo_code'], inplace= True, axis=1)\n",
    "df_merge.drop(['created_date', 'loan_transferred_date', 'due_date', 'updated_date'], inplace= True, axis=1)"
   ]
  },
  {
   "cell_type": "code",
   "execution_count": 79,
   "metadata": {
    "scrolled": true
   },
   "outputs": [
    {
     "name": "stdout",
     "output_type": "stream",
     "text": [
      "<class 'pandas.core.frame.DataFrame'>\n",
      "Int64Index: 14692 entries, 0 to 14691\n",
      "Data columns (total 24 columns):\n",
      "Unnamed: 0_x                       14692 non-null int64\n",
      "loan_request_id                    14692 non-null int64\n",
      "customer_id                        14692 non-null int64\n",
      "loan_amount                        14692 non-null float64\n",
      "interest_rate                      14692 non-null float64\n",
      "service_charge                     14692 non-null int64\n",
      "promo_discount_amount              14692 non-null float64\n",
      "promo_component                    14692 non-null object\n",
      "total_due_amount                   14692 non-null float64\n",
      "bank_account_detail_id             14692 non-null int64\n",
      "loan_status_id                     14692 non-null int64\n",
      "updated_by                         14692 non-null object\n",
      "bank_transaction_id                14692 non-null object\n",
      "retry_count                        14692 non-null float64\n",
      "loan_request_initial_id            14692 non-null float64\n",
      "promo_code                         14692 non-null object\n",
      "service_charge_configuration_id    14692 non-null float64\n",
      "purpose_id                         14692 non-null float64\n",
      "nbfc_id                            14692 non-null int64\n",
      "repeat_processing_fee              14692 non-null float64\n",
      "gst_charge                         14692 non-null int64\n",
      "ONECAP                             14692 non-null uint8\n",
      "Unnamed: 0_y                       14692 non-null int64\n",
      "monthly_customer_income            14692 non-null float64\n",
      "dtypes: float64(10), int64(9), object(4), uint8(1)\n",
      "memory usage: 3.3+ MB\n"
     ]
    }
   ],
   "source": [
    "#df4.drop(['Unnamed: 0'], inplace= True, axis=1)\n",
    "#df.isna().sum()\n",
    "df_merge.info()"
   ]
  },
  {
   "cell_type": "code",
   "execution_count": 80,
   "metadata": {},
   "outputs": [],
   "source": [
    "X = df_merge.drop([\"loan_amount\",'promo_code','purpose_id', 'loan_request_id','promo_component','nbfc_id', 'service_charge_configuration_id','loan_status_id','loan_request_initial_id','bank_account_detail_id','Unnamed: 0_y', 'customer_id', 'updated_by','bank_transaction_id',   'Unnamed: 0_x'], axis=1)\n",
    "Y = df_merge.loan_amount\n"
   ]
  },
  {
   "cell_type": "code",
   "execution_count": null,
   "metadata": {},
   "outputs": [],
   "source": []
  },
  {
   "cell_type": "code",
   "execution_count": 81,
   "metadata": {},
   "outputs": [],
   "source": [
    "#X_train, X_test, y_train, y_test = train_test_split(X, y, test_size= 0.2, random_state= 1234)\n",
    "validation_size = 0.30\n",
    "seed = 7\n",
    "X_train, X_validation, Y_train, Y_validation = model_selection.train_test_split(X, Y, test_size=validation_size, random_state=seed)"
   ]
  },
  {
   "cell_type": "code",
   "execution_count": 107,
   "metadata": {},
   "outputs": [
    {
     "data": {
      "text/plain": [
       "KNeighborsClassifier(algorithm='auto', leaf_size=30, metric='minkowski',\n",
       "           metric_params=None, n_jobs=1, n_neighbors=10, p=2,\n",
       "           weights='uniform')"
      ]
     },
     "execution_count": 107,
     "metadata": {},
     "output_type": "execute_result"
    }
   ],
   "source": [
    "#random parameters\n",
    "tree=  DecisionTreeClassifier(max_depth=5, random_state=17)\n",
    "knn = KNeighborsClassifier(n_neighbors=10)\n",
    "tree.fit(X_train, Y_train)\n",
    "\n",
    "# for kNN, we need to scale features\n",
    "scaler = StandardScaler()\n",
    "X_train_scaled = scaler.fit_transform(X_train)\n",
    "X_validation_scaled = scaler.transform(X_validation)\n",
    "knn.fit(X_train_scaled, Y_train)"
   ]
  },
  {
   "cell_type": "code",
   "execution_count": 111,
   "metadata": {},
   "outputs": [
    {
     "name": "stdout",
     "output_type": "stream",
     "text": [
      "validation_score 0.45803085299455537\n",
      "train_score 0.46363282769350445\n"
     ]
    }
   ],
   "source": [
    "tree_pred = tree.predict(X_validation)\n",
    "print (\"validation_score\", accuracy_score(Y_validation, tree_pred))\n",
    "tree_pred2 = tree.predict(X_train)\n",
    "print (\"train_score\", accuracy_score(Y_train, tree_pred2))\n"
   ]
  },
  {
   "cell_type": "code",
   "execution_count": 86,
   "metadata": {},
   "outputs": [
    {
     "name": "stdout",
     "output_type": "stream",
     "text": [
      "0.5517241379310345\n",
      "0.6117269544924154\n"
     ]
    }
   ],
   "source": [
    "knn_pred = knn.predict(X_validation_scaled)\n",
    "print (\"validation_score\", accuracy_score(Y_validation, knn_pred))\n",
    "knn_pred2 = knn.predict(X_train_scaled)\n",
    "print (\"train_score\", accuracy_score(Y_train, knn_pred2))"
   ]
  },
  {
   "cell_type": "code",
   "execution_count": 105,
   "metadata": {},
   "outputs": [
    {
     "name": "stdout",
     "output_type": "stream",
     "text": [
      "validation_score 0.617513611615245\n",
      "train_score 0.7743096071567483\n"
     ]
    }
   ],
   "source": [
    "DCT = DecisionTreeClassifier()\n",
    "DCT.fit(X_train, Y_train)\n",
    "predictions = DCT.predict(X_validation)\n",
    "predictions2 = DCT.predict(X_train)\n",
    "print('validation_score',accuracy_score(Y_validation, predictions))\n",
    "print(\"train_score\", accuracy_score(Y_train, predictions2))\n",
    "#print(confusion_matrix(Y_validation, predictions))\n",
    "#print(classification_report(Y_validation, predictions))"
   ]
  },
  {
   "cell_type": "code",
   "execution_count": 87,
   "metadata": {},
   "outputs": [],
   "source": [
    "from sklearn.linear_model import Lasso"
   ]
  },
  {
   "cell_type": "code",
   "execution_count": 89,
   "metadata": {},
   "outputs": [
    {
     "name": "stdout",
     "output_type": "stream",
     "text": [
      "train_score: 0.7729358156734167\n",
      "test_score: 0.7755882814236619\n",
      "coeff_used: 9\n"
     ]
    }
   ],
   "source": [
    "lasso = Lasso()\n",
    "lasso.fit(X_train,Y_train)\n",
    "train_score=lasso.score(X_train,Y_train)\n",
    "test_score=lasso.score(X_validation,Y_validation)\n",
    "coeff_used = np.sum(lasso.coef_!=0)\n",
    "print(\"train_score:\", train_score)\n",
    "print(\"test_score:\", test_score)\n",
    "print(\"coeff_used:\", coeff_used)"
   ]
  },
  {
   "cell_type": "code",
   "execution_count": 95,
   "metadata": {},
   "outputs": [
    {
     "name": "stdout",
     "output_type": "stream",
     "text": [
      "train_score001: 0.7729378909725098\n",
      "test_score001: 0.7755860578071302\n",
      "coeff_used001: 9\n"
     ]
    }
   ],
   "source": [
    "lasso001 = Lasso(alpha=0.01, max_iter=10e5)\n",
    "lasso001.fit(X_train,Y_train)\n",
    "train_score001=lasso001.score(X_train,Y_train)\n",
    "test_score001=lasso001.score(X_validation,Y_validation)\n",
    "coeff_used001 = np.sum(lasso001.coef_!=0)\n",
    "print(\"train_score001:\", train_score001)\n",
    "print(\"test_score001:\", test_score001)\n",
    "print(\"coeff_used001:\", coeff_used001)"
   ]
  },
  {
   "cell_type": "code",
   "execution_count": 99,
   "metadata": {},
   "outputs": [
    {
     "name": "stdout",
     "output_type": "stream",
     "text": [
      "ridge regression train score low alpha: 0.7729378911695098\n",
      "ridge regression test score low alpha: 0.7755860281697657\n",
      "ridge regression train score high alpha: 0.7729221013165897\n",
      "ridge regression test score high alpha: 0.7755476290809908\n"
     ]
    }
   ],
   "source": [
    "from sklearn.linear_model import Ridge\n",
    "rr = Ridge(alpha=0.01) # higher the alpha value, more restriction on the coefficients; low alpha > more generalization, coefficients are barely\n",
    "# restricted and in this case linear and ridge regression resembles\n",
    "rr.fit(X_train, Y_train)\n",
    "rr100 = Ridge(alpha=100) #  comparison with alpha value\n",
    "rr100.fit(X_train, Y_train)\n",
    "Ridge_train_score = rr.score(X_train,Y_train)\n",
    "Ridge_test_score = rr.score(X_validation, Y_validation)\n",
    "Ridge_train_score100 = rr100.score(X_train,Y_train)\n",
    "Ridge_test_score100 = rr100.score(X_validation, Y_validation)\n",
    "print (\"ridge regression train score low alpha:\", Ridge_train_score)\n",
    "print (\"ridge regression test score low alpha:\", Ridge_test_score)\n",
    "print (\"ridge regression train score high alpha:\", Ridge_train_score100)\n",
    "print (\"ridge regression test score high alpha:\", Ridge_test_score100)"
   ]
  }
 ],
 "metadata": {
  "kernelspec": {
   "display_name": "Python 3",
   "language": "python",
   "name": "python3"
  },
  "language_info": {
   "codemirror_mode": {
    "name": "ipython",
    "version": 3
   },
   "file_extension": ".py",
   "mimetype": "text/x-python",
   "name": "python",
   "nbconvert_exporter": "python",
   "pygments_lexer": "ipython3",
   "version": "3.6.5"
  }
 },
 "nbformat": 4,
 "nbformat_minor": 2
}
